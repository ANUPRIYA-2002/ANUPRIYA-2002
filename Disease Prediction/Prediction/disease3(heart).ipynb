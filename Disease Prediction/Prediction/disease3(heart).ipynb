{
 "cells": [
  {
   "cell_type": "code",
   "execution_count": 1,
   "id": "f6a09a6d",
   "metadata": {},
   "outputs": [],
   "source": [
    "import numpy as np\n",
    "import pandas as pd\n",
    "from scipy.stats import mode\n",
    "import matplotlib.pyplot as plt\n",
    "import seaborn as sns\n",
    "from sklearn.preprocessing import LabelEncoder\n",
    "from sklearn.model_selection import train_test_split, cross_val_score\n",
    "from sklearn.svm import SVC\n",
    "from sklearn.naive_bayes import GaussianNB\n",
    "from sklearn.ensemble import RandomForestClassifier\n",
    "from sklearn.metrics import accuracy_score, confusion_matrix\n",
    " \n",
    "%matplotlib inline"
   ]
  },
  {
   "cell_type": "code",
   "execution_count": 2,
   "id": "fa6c2989",
   "metadata": {},
   "outputs": [],
   "source": [
    "heart_disease = pd.read_csv('heart_disease.csv')"
   ]
  },
  {
   "cell_type": "code",
   "execution_count": 3,
   "id": "0ec7461f",
   "metadata": {},
   "outputs": [
    {
     "data": {
      "text/html": [
       "<div>\n",
       "<style scoped>\n",
       "    .dataframe tbody tr th:only-of-type {\n",
       "        vertical-align: middle;\n",
       "    }\n",
       "\n",
       "    .dataframe tbody tr th {\n",
       "        vertical-align: top;\n",
       "    }\n",
       "\n",
       "    .dataframe thead th {\n",
       "        text-align: right;\n",
       "    }\n",
       "</style>\n",
       "<table border=\"1\" class=\"dataframe\">\n",
       "  <thead>\n",
       "    <tr style=\"text-align: right;\">\n",
       "      <th></th>\n",
       "      <th>age</th>\n",
       "      <th>sex</th>\n",
       "      <th>cp</th>\n",
       "      <th>trestbps</th>\n",
       "      <th>chol</th>\n",
       "      <th>fbs</th>\n",
       "      <th>restecg</th>\n",
       "      <th>thalach</th>\n",
       "      <th>exang</th>\n",
       "      <th>oldpeak</th>\n",
       "      <th>slope</th>\n",
       "      <th>ca</th>\n",
       "      <th>thal</th>\n",
       "      <th>condition</th>\n",
       "    </tr>\n",
       "  </thead>\n",
       "  <tbody>\n",
       "    <tr>\n",
       "      <th>0</th>\n",
       "      <td>69</td>\n",
       "      <td>1</td>\n",
       "      <td>0</td>\n",
       "      <td>160</td>\n",
       "      <td>234</td>\n",
       "      <td>1</td>\n",
       "      <td>2</td>\n",
       "      <td>131</td>\n",
       "      <td>0</td>\n",
       "      <td>0.1</td>\n",
       "      <td>1</td>\n",
       "      <td>1</td>\n",
       "      <td>0</td>\n",
       "      <td>0</td>\n",
       "    </tr>\n",
       "    <tr>\n",
       "      <th>1</th>\n",
       "      <td>69</td>\n",
       "      <td>0</td>\n",
       "      <td>0</td>\n",
       "      <td>140</td>\n",
       "      <td>239</td>\n",
       "      <td>0</td>\n",
       "      <td>0</td>\n",
       "      <td>151</td>\n",
       "      <td>0</td>\n",
       "      <td>1.8</td>\n",
       "      <td>0</td>\n",
       "      <td>2</td>\n",
       "      <td>0</td>\n",
       "      <td>0</td>\n",
       "    </tr>\n",
       "    <tr>\n",
       "      <th>2</th>\n",
       "      <td>66</td>\n",
       "      <td>0</td>\n",
       "      <td>0</td>\n",
       "      <td>150</td>\n",
       "      <td>226</td>\n",
       "      <td>0</td>\n",
       "      <td>0</td>\n",
       "      <td>114</td>\n",
       "      <td>0</td>\n",
       "      <td>2.6</td>\n",
       "      <td>2</td>\n",
       "      <td>0</td>\n",
       "      <td>0</td>\n",
       "      <td>0</td>\n",
       "    </tr>\n",
       "    <tr>\n",
       "      <th>3</th>\n",
       "      <td>65</td>\n",
       "      <td>1</td>\n",
       "      <td>0</td>\n",
       "      <td>138</td>\n",
       "      <td>282</td>\n",
       "      <td>1</td>\n",
       "      <td>2</td>\n",
       "      <td>174</td>\n",
       "      <td>0</td>\n",
       "      <td>1.4</td>\n",
       "      <td>1</td>\n",
       "      <td>1</td>\n",
       "      <td>0</td>\n",
       "      <td>1</td>\n",
       "    </tr>\n",
       "    <tr>\n",
       "      <th>4</th>\n",
       "      <td>64</td>\n",
       "      <td>1</td>\n",
       "      <td>0</td>\n",
       "      <td>110</td>\n",
       "      <td>211</td>\n",
       "      <td>0</td>\n",
       "      <td>2</td>\n",
       "      <td>144</td>\n",
       "      <td>1</td>\n",
       "      <td>1.8</td>\n",
       "      <td>1</td>\n",
       "      <td>0</td>\n",
       "      <td>0</td>\n",
       "      <td>0</td>\n",
       "    </tr>\n",
       "  </tbody>\n",
       "</table>\n",
       "</div>"
      ],
      "text/plain": [
       "   age  sex  cp  trestbps  chol  fbs  restecg  thalach  exang  oldpeak  slope  \\\n",
       "0   69    1   0       160   234    1        2      131      0      0.1      1   \n",
       "1   69    0   0       140   239    0        0      151      0      1.8      0   \n",
       "2   66    0   0       150   226    0        0      114      0      2.6      2   \n",
       "3   65    1   0       138   282    1        2      174      0      1.4      1   \n",
       "4   64    1   0       110   211    0        2      144      1      1.8      1   \n",
       "\n",
       "   ca  thal  condition  \n",
       "0   1     0          0  \n",
       "1   2     0          0  \n",
       "2   0     0          0  \n",
       "3   1     0          1  \n",
       "4   0     0          0  "
      ]
     },
     "execution_count": 3,
     "metadata": {},
     "output_type": "execute_result"
    }
   ],
   "source": [
    "heart_disease.head()"
   ]
  },
  {
   "cell_type": "code",
   "execution_count": 4,
   "id": "3d1859d6",
   "metadata": {},
   "outputs": [
    {
     "data": {
      "image/png": "[encoded data removed]",
      "text/plain": [
       "<Figure size 1296x576 with 1 Axes>"
      ]
     },
     "metadata": {
      "needs_background": "light"
     },
     "output_type": "display_data"
    }
   ],
   "source": [
    "# Reading the train.csv by removing the\n",
    "# last column since it's an empty column\n",
    "DATA_PATH = \"heart_disease.csv\"\n",
    "data = pd.read_csv(DATA_PATH).dropna(axis = 1)\n",
    " \n",
    "# Checking whether the dataset is balanced or not\n",
    "disease_counts = data[\"condition\"].value_counts()\n",
    "temp_df = pd.DataFrame({\n",
    "    \"Disease\": disease_counts.index,\n",
    "    \"Counts\": disease_counts.values\n",
    "})\n",
    " \n",
    "plt.figure(figsize = (18,8))\n",
    "sns.barplot(x = \"Disease\", y = \"Counts\", data = temp_df)\n",
    "plt.xticks(rotation=90)\n",
    "plt.show()"
   ]
  },
  {
   "cell_type": "code",
   "execution_count": 5,
   "id": "0a949733",
   "metadata": {},
   "outputs": [],
   "source": [
    "# Encoding the target value into numerical\n",
    "# value using LabelEncoder\n",
    "encoder = LabelEncoder()\n",
    "data[\"condition\"] = encoder.fit_transform(data[\"condition\"])"
   ]
  },
  {
   "cell_type": "code",
   "execution_count": 6,
   "id": "72cf6067",
   "metadata": {},
   "outputs": [
    {
     "name": "stdout",
     "output_type": "stream",
     "text": [
      "Train: (237, 13), (237,)\n",
      "Test: (60, 13), (60,)\n"
     ]
    }
   ],
   "source": [
    "X = data.iloc[:,:-1]\n",
    "y = data.iloc[:, -1]\n",
    "X_train, X_test, y_train, y_test =train_test_split(\n",
    "  X, y, test_size = 0.2, random_state = 24)\n",
    " \n",
    "print(f\"Train: {X_train.shape}, {y_train.shape}\")\n",
    "print(f\"Test: {X_test.shape}, {y_test.shape}\")"
   ]
  },
  {
   "cell_type": "code",
   "execution_count": 7,
   "id": "c523fd5e",
   "metadata": {},
   "outputs": [
    {
     "name": "stdout",
     "output_type": "stream",
     "text": [
      "============================================================\n",
      "SVC\n",
      "Scores: [0.5        0.6        0.7        0.6        0.56666667 0.7\n",
      " 0.83333333 0.82758621 0.55172414 0.5862069 ]\n",
      "Mean Score: 0.646551724137931\n",
      "============================================================\n",
      "Gaussian NB\n",
      "Scores: [0.56666667 0.9        0.96666667 0.9        0.8        0.86666667\n",
      " 0.96666667 0.86206897 0.75862069 0.72413793]\n",
      "Mean Score: 0.8311494252873564\n",
      "============================================================\n",
      "Random Forest\n",
      "Scores: [0.53333333 0.73333333 0.83333333 0.86666667 0.8        0.96666667\n",
      " 1.         0.75862069 0.65517241 0.79310345]\n",
      "Mean Score: 0.7940229885057472\n"
     ]
    }
   ],
   "source": [
    "from sklearn.svm import SVC\n",
    "svc = SVC()\n",
    "\n",
    "# Defining scoring metric for k-fold cross validation\n",
    "def cv_scoring(estimator, X, y):\n",
    "    return accuracy_score(y, estimator.predict(X))\n",
    " \n",
    "# Initializing Models\n",
    "models = {\n",
    "    \"SVC\":SVC(),\n",
    "    \"Gaussian NB\":GaussianNB(),\n",
    "    \"Random Forest\":RandomForestClassifier(random_state=18)\n",
    "}\n",
    " \n",
    "# Producing cross validation score for the models\n",
    "for model_name in models:\n",
    "    model = models[model_name]\n",
    "    scores = cross_val_score(model, X, y, cv = 10,\n",
    "                             n_jobs = -1,\n",
    "                             scoring = cv_scoring)\n",
    "    print(\"==\"*30)\n",
    "    print(model_name)\n",
    "    print(f\"Scores: {scores}\")\n",
    "    print(f\"Mean Score: {np.mean(scores)}\")"
   ]
  },
  {
   "cell_type": "code",
   "execution_count": 8,
   "id": "091142f4",
   "metadata": {},
   "outputs": [
    {
     "name": "stdout",
     "output_type": "stream",
     "text": [
      "Accuracy on train data by SVM Classifier: 65.82278481012658\n",
      "Accuracy on test data by SVM Classifier: 63.33333333333333\n"
     ]
    },
    {
     "data": {
      "image/png": "[encoded data removed]",
      "text/plain": [
       "<Figure size 864x576 with 2 Axes>"
      ]
     },
     "metadata": {
      "needs_background": "light"
     },
     "output_type": "display_data"
    },
    {
     "name": "stdout",
     "output_type": "stream",
     "text": [
      "Accuracy on train data by Naive Bayes Classifier: 84.38818565400844\n",
      "Accuracy on test data by Naive Bayes Classifier: 85.0\n"
     ]
    },
    {
     "data": {
      "image/png": "[encoded data removed]",
      "text/plain": [
       "<Figure size 864x576 with 2 Axes>"
      ]
     },
     "metadata": {
      "needs_background": "light"
     },
     "output_type": "display_data"
    }
   ],
   "source": [
    "# Training and testing SVM Classifier\n",
    "svm_model = SVC()\n",
    "svm_model.fit(X_train, y_train)\n",
    "preds = svm_model.predict(X_test)\n",
    " \n",
    "print(f\"Accuracy on train data by SVM Classifier\\\n",
    ": {accuracy_score(y_train, svm_model.predict(X_train))*100}\")\n",
    " \n",
    "print(f\"Accuracy on test data by SVM Classifier\\\n",
    ": {accuracy_score(y_test, preds)*100}\")\n",
    "cf_matrix = confusion_matrix(y_test, preds)\n",
    "plt.figure(figsize=(12,8))\n",
    "sns.heatmap(cf_matrix, annot=True)\n",
    "plt.title(\"Confusion Matrix for SVM Classifier on Test Data\")\n",
    "plt.show()\n",
    " \n",
    "# Training and testing Naive Bayes Classifier\n",
    "nb_model = GaussianNB()\n",
    "nb_model.fit(X_train, y_train)\n",
    "preds = nb_model.predict(X_test)\n",
    "print(f\"Accuracy on train data by Naive Bayes Classifier\\\n",
    ": {accuracy_score(y_train, nb_model.predict(X_train))*100}\")\n",
    " \n",
    "print(f\"Accuracy on test data by Naive Bayes Classifier\\\n",
    ": {accuracy_score(y_test, preds)*100}\")\n",
    "cf_matrix = confusion_matrix(y_test, preds)\n",
    "plt.figure(figsize=(12,8))\n",
    "sns.heatmap(cf_matrix, annot=True)\n",
    "plt.title(\"Confusion Matrix for Naive Bayes Classifier on Test Data\")\n",
    "plt.show()"
   ]
  },
  {
   "cell_type": "code",
   "execution_count": 9,
   "id": "288a12ef",
   "metadata": {},
   "outputs": [
    {
     "name": "stdout",
     "output_type": "stream",
     "text": [
      "Accuracy on train data by Random Forest Classifier: 100.0\n",
      "Accuracy on test data by Random Forest Classifier: 86.66666666666667\n"
     ]
    },
    {
     "data": {
      "image/png": "[encoded data removed]",
      "text/plain": [
       "<Figure size 864x576 with 2 Axes>"
      ]
     },
     "metadata": {
      "needs_background": "light"
     },
     "output_type": "display_data"
    }
   ],
   "source": [
    "# Training and testing Random Forest Classifier\n",
    "rf_model = RandomForestClassifier(random_state=18)\n",
    "rf_model.fit(X_train, y_train)\n",
    "preds = rf_model.predict(X_test)\n",
    "print(f\"Accuracy on train data by Random Forest Classifier\\\n",
    ": {accuracy_score(y_train, rf_model.predict(X_train))*100}\")\n",
    " \n",
    "print(f\"Accuracy on test data by Random Forest Classifier\\\n",
    ": {accuracy_score(y_test, preds)*100}\")\n",
    " \n",
    "cf_matrix = confusion_matrix(y_test, preds)\n",
    "plt.figure(figsize=(12,8))\n",
    "sns.heatmap(cf_matrix, annot=True)\n",
    "plt.title(\"Confusion Matrix for Random Forest Classifier on Test Data\")\n",
    "plt.show()"
   ]
  },
  {
   "cell_type": "code",
   "execution_count": 11,
   "id": "d1d2a841",
   "metadata": {},
   "outputs": [
    {
     "name": "stdout",
     "output_type": "stream",
     "text": [
      "Accuracy on Test dataset by the combined model: 90.57239057239057\n"
     ]
    },
    {
     "data": {
      "image/png": "[encoded data removed]",
      "text/plain": [
       "<Figure size 864x576 with 2 Axes>"
      ]
     },
     "metadata": {
      "needs_background": "light"
     },
     "output_type": "display_data"
    }
   ],
   "source": [
    "# Training the models on whole data\n",
    "final_svm_model = SVC()\n",
    "final_nb_model = GaussianNB()\n",
    "final_rf_model = RandomForestClassifier(random_state=18)\n",
    "final_svm_model.fit(X, y)\n",
    "final_nb_model.fit(X, y)\n",
    "final_rf_model.fit(X, y)\n",
    " \n",
    "# Reading the test data\n",
    "test_data = pd.read_csv(\"heart_disease.csv\").dropna(axis=1)\n",
    " \n",
    "test_X = test_data.iloc[:, :-1]\n",
    "test_Y = encoder.transform(test_data.iloc[:, -1])\n",
    " \n",
    "# Making prediction by take mode of predictions\n",
    "# made by all the classifiers\n",
    "svm_preds = final_svm_model.predict(test_X)\n",
    "nb_preds = final_nb_model.predict(test_X)\n",
    "rf_preds = final_rf_model.predict(test_X)\n",
    " \n",
    "final_preds = [mode([i,j,k])[0][0] for i,j,\n",
    "               k in zip(svm_preds, nb_preds, rf_preds)]\n",
    " \n",
    "print(f\"Accuracy on Test dataset by the combined model\\\n",
    ": {accuracy_score(test_Y, final_preds)*100}\")\n",
    " \n",
    "cf_matrix = confusion_matrix(test_Y, final_preds)\n",
    "plt.figure(figsize=(12,8))\n",
    " \n",
    "sns.heatmap(cf_matrix, annot = True)\n",
    "plt.title(\"Confusion Matrix for Combined Model on Test Dataset\")\n",
    "plt.show()"
   ]
  },
  {
   "cell_type": "code",
   "execution_count": 12,
   "id": "a2e205e6",
   "metadata": {},
   "outputs": [],
   "source": [
    "#saving the trained model\n",
    "import pickle"
   ]
  },
  {
   "cell_type": "code",
   "execution_count": 13,
   "id": "722ece78",
   "metadata": {},
   "outputs": [],
   "source": [
    "filename = \"heart_model.sav\"\n",
    "pickle.dump(model,open(filename,'wb'))"
   ]
  },
  {
   "cell_type": "code",
   "execution_count": 14,
   "id": "e5fbd019",
   "metadata": {},
   "outputs": [],
   "source": [
    "loaded_model = pickle.load(open('heart_model.sav','rb'))"
   ]
  },
  {
   "cell_type": "code",
   "execution_count": 15,
   "id": "4af08779",
   "metadata": {},
   "outputs": [
    {
     "name": "stdout",
     "output_type": "stream",
     "text": [
      "age\n",
      "sex\n",
      "cp\n",
      "trestbps\n",
      "chol\n",
      "fbs\n",
      "restecg\n",
      "thalach\n",
      "exang\n",
      "oldpeak\n",
      "slope\n",
      "ca\n",
      "thal\n"
     ]
    }
   ],
   "source": [
    "for column in X.columns:\n",
    "    print(column)"
   ]
  },
  {
   "cell_type": "code",
   "execution_count": null,
   "id": "0c5605f6",
   "metadata": {},
   "outputs": [],
   "source": []
  }
 ],
 "metadata": {
  "kernelspec": {
   "display_name": "Python 3 (ipykernel)",
   "language": "python",
   "name": "python3"
  },
  "language_info": {
   "codemirror_mode": {
    "name": "ipython",
    "version": 3
   },
   "file_extension": ".py",
   "mimetype": "text/x-python",
   "name": "python",
   "nbconvert_exporter": "python",
   "pygments_lexer": "ipython3",
   "version": "3.9.12"
  }
 },
 "nbformat": 4,
 "nbformat_minor": 5
}
